{
 "cells": [
  {
   "cell_type": "markdown",
   "metadata": {},
   "source": [
    "# Manual for Numpy, Scipy, and Matplotlib\n",
    "This manual was created as a final project for CMPT 399 (Numerical Methods). It is intended for general scientists who have a mathematical background but may have little to no programming experience."
   ]
  },
  {
   "cell_type": "markdown",
   "metadata": {},
   "source": [
    "## Installation\n",
    "Python packages are easy to install using the built in package manager. First make sure you have installed python and an IDE of your choice. Then open the command prompt and enter the following command:\n",
    "\n",
    "`python -m pip install --user numpy scipy matplotlib`\n",
    "\n",
    "This will install the packages used in this manual."
   ]
  },
  {
   "cell_type": "markdown",
   "metadata": {},
   "source": [
    "## Arrays and Matrices"
   ]
  }
 ],
 "metadata": {
  "kernelspec": {
   "display_name": "Python 3",
   "language": "python",
   "name": "python3"
  },
  "language_info": {
   "codemirror_mode": {
    "name": "ipython",
    "version": 3
   },
   "file_extension": ".py",
   "mimetype": "text/x-python",
   "name": "python",
   "nbconvert_exporter": "python",
   "pygments_lexer": "ipython3",
   "version": "3.6.4"
  }
 },
 "nbformat": 4,
 "nbformat_minor": 2
}
